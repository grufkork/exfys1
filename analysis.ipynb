{
 "cells": [
  {
   "cell_type": "markdown",
   "metadata": {},
   "source": [
    "**Requirements:**\n",
    "\n",
    "`PyQt5`"
   ]
  },
  {
   "cell_type": "code",
   "execution_count": 54,
   "metadata": {},
   "outputs": [],
   "source": [
    "import numpy as np\n",
    "from os import listdir\n",
    "import matplotlib.pyplot as plt\n",
    "import matplotlib.patches as patches\n",
    "import matplotlib.animation as animation\n",
    "from scipy.signal import savgol_filter"
   ]
  },
  {
   "cell_type": "code",
   "execution_count": 55,
   "metadata": {},
   "outputs": [],
   "source": [
    "RADIUS = 50\n",
    "MASSES = np.array([13.69, 22.87, 226, 27.946, 29.424, 43.2, 43.44, 16.95]) * 0.001\n",
    "RADII = np.array([49, 72, 99.4, 99, 99, 125, 125, 74]) * 0.001 / 2\n",
    "PUCKS = np.array([[0, 1], [0, 2], [3, 4], [5, 6], [1, 7], [1, 7]])\n",
    "MOMENTS_OF_INTERTIA = MASSES * RADII**2 / 2"
   ]
  },
  {
   "cell_type": "markdown",
   "metadata": {},
   "source": [
    "### Import, process data"
   ]
  },
  {
   "cell_type": "code",
   "execution_count": 56,
   "metadata": {},
   "outputs": [
    {
     "name": "stdout",
     "output_type": "stream",
     "text": [
      "1 1\n",
      "1 10\n",
      "1 11\n",
      "1 2\n",
      "1 3\n",
      "1 4\n",
      "1 5\n",
      "1 6\n",
      "1 7\n",
      "1 8\n"
     ]
    },
    {
     "name": "stderr",
     "output_type": "stream",
     "text": [
      "C:\\Users\\griff\\AppData\\Local\\Temp\\ipykernel_31540\\2707978006.py:10: UserWarning: loadtxt: input contained no data: \"./matningar/1_8.tsv\"\n",
      "  data = np.loadtxt(\"./matningar/\" + file, delimiter=\"\\t\", skiprows=11)\n"
     ]
    },
    {
     "name": "stdout",
     "output_type": "stream",
     "text": [
      "1 9\n",
      "2 1\n",
      "2 2\n",
      "2 3\n",
      "2 4\n",
      "2 5\n",
      "2 6\n",
      "3 1\n",
      "3 2\n",
      "3 3\n",
      "3 4\n",
      "3 5\n",
      "3 6\n",
      "3 7\n",
      "3 8\n",
      "4 1\n",
      "4 2\n",
      "4 3\n",
      "4 4\n",
      "4 5\n",
      "4 6\n",
      "4 7\n",
      "4 8\n",
      "4 9\n",
      "5 1\n",
      "5 10\n",
      "5 11\n",
      "5 12\n",
      "5 13\n",
      "5 14\n",
      "5 15\n",
      "5 16\n",
      "5 17\n",
      "5 18\n",
      "5 19\n",
      "5 2\n",
      "5 20\n",
      "5 21\n",
      "5 22\n",
      "5 23\n",
      "5 24\n",
      "5 25\n",
      "5 26\n",
      "5 27\n",
      "5 28\n",
      "5 29\n",
      "5 3\n",
      "5 30\n",
      "5 31\n",
      "5 32\n",
      "5 33\n",
      "5 34\n",
      "5 35\n",
      "5 36\n",
      "5 37\n",
      "5 38\n",
      "5 39\n",
      "5 4\n",
      "5 40\n",
      "5 41\n",
      "5 42\n",
      "5 43\n",
      "5 44\n",
      "5 45\n",
      "5 46\n",
      "5 47\n",
      "5 48\n",
      "5 49\n",
      "5 5\n",
      "5 50\n",
      "5 51\n",
      "5 52\n",
      "5 53\n",
      "5 54\n",
      "5 55\n",
      "5 56\n",
      "5 57\n",
      "5 58\n",
      "5 59\n",
      "5 6\n",
      "5 7\n",
      "5 8\n",
      "5 9\n",
      "6 1\n",
      "6 10\n",
      "6 11\n",
      "6 2\n",
      "6 3\n",
      "6 4\n",
      "6 5\n",
      "6 6\n",
      "6 7\n",
      "6 8\n",
      "6 9\n"
     ]
    }
   ],
   "source": [
    "files = listdir(\"./matningar\")\n",
    "datasets = []\n",
    "metadata = []\n",
    "for file in files:\n",
    "    split = file.split(\"_\")\n",
    "    scenario = int(split[0])\n",
    "    series = int(split[1].split(\".\")[0])\n",
    "    print(scenario, series)\n",
    "\n",
    "    data = np.loadtxt(\"./matningar/\" + file, delimiter=\"\\t\", skiprows=11)\n",
    "    vectorised = []\n",
    "    for row in data:\n",
    "        row_vectorised = []\n",
    "        for n in range(0, 12, 3):\n",
    "            row_vectorised.append([row[n] * 0.001, row[n+1] * 0.001, row[n+2] * 0.001])\n",
    "        vectorised.append(row_vectorised)\n",
    "    \n",
    "    if len(vectorised) != 0:\n",
    "        datasets.append(np.array(vectorised))\n",
    "        metadata.append([scenario, series])\n",
    "#datasets"
   ]
  },
  {
   "cell_type": "code",
   "execution_count": 57,
   "metadata": {},
   "outputs": [],
   "source": [
    "def rolling_avg(x, n):\n",
    "    return np.convolve(x, np.ones(n)) / n"
   ]
  },
  {
   "cell_type": "code",
   "execution_count": 58,
   "metadata": {},
   "outputs": [],
   "source": [
    "def draw_measurement(pos, subsample):\n",
    "    plt.scatter(pos[:,0,0][::subsample], pos[:,0,1][::subsample], s=0.5)\n",
    "    plt.scatter(pos[:,1,0][::subsample], pos[:,1,1][::subsample], s=0.5)"
   ]
  },
  {
   "cell_type": "code",
   "execution_count": 59,
   "metadata": {},
   "outputs": [],
   "source": [
    "# Format as vectors (x, y, r)\n",
    "\n",
    "positions = []\n",
    "for vel in datasets:\n",
    "    l = []\n",
    "    for frame in vel:\n",
    "        pos = np.array([frame[0], frame[2]])\n",
    "        diff = np.array([frame[1], frame[3]]) - pos\n",
    "\n",
    "        angles = np.arctan(np.array([diff[0][1]/diff[0][0], diff[1][1]/diff[1][0]]))\n",
    "        l.append([\n",
    "            [pos[0][0], pos[0][1], angles[0]], \n",
    "            [pos[1][0], pos[1][1], angles[1]]\n",
    "        ])\n",
    "    l = np.array(l)\n",
    "    l[:,:,2] = np.unwrap(l[:,:,2], period=np.pi, axis=0)\n",
    "    positions.append(l)\n"
   ]
  },
  {
   "cell_type": "markdown",
   "metadata": {},
   "source": [
    "# Data processing"
   ]
  },
  {
   "cell_type": "markdown",
   "metadata": {},
   "source": [
    "## Velocity, acc, CoM"
   ]
  },
  {
   "cell_type": "code",
   "execution_count": 60,
   "metadata": {},
   "outputs": [
    {
     "name": "stdout",
     "output_type": "stream",
     "text": [
      "20\n"
     ]
    }
   ],
   "source": [
    "series = 0\n",
    "velocities = []\n",
    "accelerations = []\n",
    "accsum = []\n",
    "CoMs = []\n",
    "CoM_vels = []\n",
    "for (i, vel) in enumerate(positions):\n",
    "    velocity = (vel[1:]-vel[:-1])*500 # 500Hz \n",
    "    acceleration = (velocity[1:]-velocity[:-1])*500\n",
    "    accs = np.sqrt(acceleration[:,:,0]**2 + acceleration[:,:,1]**2)\n",
    "\n",
    "    velocities.append(velocity)\n",
    "    accelerations.append(acceleration)\n",
    "    accsum.append(accs)\n",
    "\n",
    "    mass = MASSES[PUCKS[metadata[i][0]-1]]\n",
    "    CoM = (vel[:,0,[0,1]] * mass[0] + vel[:,1,[0,1]] * mass[1])/(mass[0]+mass[1])\n",
    "    CoM_vel = (CoM[1:]-CoM[:-1])*500\n",
    "\n",
    "    CoMs.append(CoM)\n",
    "    CoM_vels.append(CoM_vel)\n",
    "# plt.plot(accsum[series][:,0])\n",
    "plt.plot(accelerations[series][:,0,0])\n",
    "print(np.argmax(accsum[series][:,0] + accsum[series][:,1]))\n",
    "# plt.plot(processed[28][:,0,1])"
   ]
  },
  {
   "cell_type": "markdown",
   "metadata": {},
   "source": [
    "## Linear Momentum"
   ]
  },
  {
   "cell_type": "code",
   "execution_count": 61,
   "metadata": {},
   "outputs": [],
   "source": [
    "linmoms = []\n",
    "\n",
    "for (i, vel) in enumerate(velocities):\n",
    "    scenario = metadata[i][0]-1\n",
    "    mass = MASSES[PUCKS[scenario]]\n",
    "    momentum = vel[:,:,[0,1]]\n",
    "    momentum_sum = momentum[:, 0] * mass[0] + momentum[:, 1] * mass[1]\n",
    "    \n",
    "    linmoms.append(momentum_sum)"
   ]
  },
  {
   "cell_type": "code",
   "execution_count": 76,
   "metadata": {},
   "outputs": [],
   "source": [
    "%matplotlib qt5\n",
    "for mom in linmoms:\n",
    "    plt.plot(mom[:,0], mom[:,1], linewidth=0.2)\n",
    "# plt.xlim((0.00, 0.02))\n",
    "# plt.ylim((0.01, 0.03))\n",
    "plt.axis('equal')\n",
    "plt.title(\"X/Y Momentum\")\n",
    "plt.xlabel(\"X $kgm/s$\")\n",
    "plt.ylabel(\"Y $kgm/s$\")\n",
    "None"
   ]
  },
  {
   "cell_type": "markdown",
   "metadata": {},
   "source": [
    "## Angular Momentum"
   ]
  },
  {
   "cell_type": "markdown",
   "metadata": {},
   "source": [
    "$r = v \\times p = v_x p_y - v_y p_x$ \n",
    "\n",
    "$f = \\frac{1}{2 \\pi \\omega}$\n",
    "\n",
    "$L = 2 \\pi M f r^2 = \\frac{M r^2}{\\omega}$"
   ]
  },
  {
   "cell_type": "code",
   "execution_count": 73,
   "metadata": {},
   "outputs": [],
   "source": [
    "angmoms = []\n",
    "\n",
    "for (i, (pos, vel)) in enumerate(zip(positions, velocities)):\n",
    "    scenario = metadata[i][0]-1\n",
    "    \n",
    "    moment_of_inertia = MOMENTS_OF_INTERTIA[PUCKS[scenario]] #MASSES[PUCKS[scenario]] * RADII[PUCKS[scenario]]**2 / 2\n",
    "    \n",
    "    angvel = vel[:,:,2]\n",
    "    \n",
    "    \n",
    "    # Momentum around each puck's own CoM\n",
    "    rotational_momentum = np.array([\n",
    "        rolling_avg(angvel[:, 0] * moment_of_inertia[0], 1),\n",
    "        rolling_avg(angvel[:, 1] * moment_of_inertia[1], 1)\n",
    "    ]).T\n",
    "\n",
    "    momentum_sum = rotational_momentum[:, 0] + rotational_momentum[:, 1]\n",
    "    \n",
    "    # Momentum around origin\n",
    "    rvel =  MASSES[PUCKS[scenario]] * (vel[:,:,1]*pos[1:,:,0] - vel[:,:,0]*pos[1:,:,1]) # [m1, m2] * [vy*px]\n",
    "    \n",
    "    angmom_sum = rvel[:, 0] + rvel[:, 1] + momentum_sum\n",
    "\n",
    "    angmoms.append(rotational_momentum + rvel)\n",
    "\n",
    "    # plt.plot(rvel[:,0]+rvel[:,1])\n",
    "    # plt.plot(rvel + angular_momentum)\n",
    "\n",
    "    # plt.scatter(momentum_sum[:,0], momentum_sum[:,1], label=i, s=0.1)\n",
    "    \n",
    "    # plt.plot(momentum[:, 0, 0], momentum[:, 0, 1])\n",
    "    # plt.plot(momentum[:, 1, 0], momentum[:, 1, 1])\n",
    "\n",
    "    # plt.plot(angvel[:,0])\n",
    "    # plt.plot(angular_momentum[:,0], linewidth=1, label = \"A: \" + str(metadata[i][0]) + \"_\" + str(metadata[i][1]))\n",
    "    # plt.plot(angular_momentum[:,1], linewidth=1, label = \"B: \" + str(metadata[i][0]) + \"_\" + str(metadata[i][1]))\n",
    "# plt.xlim(-0.1, 0.1)\n",
    "# plt.ylim(-0.1, 0.1)\n",
    "# plt.legend()\n",
    "# plt.title(\"Total Angular Momentum\")\n",
    "# plt.xlabel(\"X $kgm/s$\")\n",
    "# plt.ylabel(\"rad/s\")\n",
    "None"
   ]
  },
  {
   "cell_type": "code",
   "execution_count": 88,
   "metadata": {},
   "outputs": [
    {
     "data": {
      "text/plain": [
       "<matplotlib.legend.Legend at 0x1790befb200>"
      ]
     },
     "execution_count": 88,
     "metadata": {},
     "output_type": "execute_result"
    }
   ],
   "source": [
    "for (i, mom) in enumerate(angmoms[0:29]):\n",
    "    plt.plot(mom[:,0] + mom[:,1], linewidth=0.5, label = str(i))\n",
    "    \n",
    "plt.legend()"
   ]
  },
  {
   "cell_type": "markdown",
   "metadata": {},
   "source": [
    "## Impact detection"
   ]
  },
  {
   "cell_type": "code",
   "execution_count": 65,
   "metadata": {},
   "outputs": [],
   "source": [
    "impact_times = []\n",
    "acc_sqs = []\n",
    "for acc in accelerations:\n",
    "    # Sum the squares of x, y accelerations for both pucks\n",
    "    acc_sq = acc[:,0,0]**2+acc[:,0,1]**2+acc[:,1,0]**2+acc[:,1,1]**2\n",
    "    acc_sqs.append(acc_sq)\n",
    "    impact_times.append(np.argmax(acc_sq))"
   ]
  },
  {
   "cell_type": "code",
   "execution_count": 66,
   "metadata": {},
   "outputs": [],
   "source": [
    "margin = 5\n",
    "for (linmom, angmom, impact_time) in zip(linmoms, angmoms, impact_times):\n",
    "    linavg_pre = np.average(linmom[:impact_time - margin], axis=0)\n",
    "    linavg_post = np.average(linmom[impact_time + margin:], axis=0)\n",
    "    \n",
    "    angavg_pre = np.average(angmom[:impact_time - margin], axis=0)\n",
    "    angavg_post = np.average(angmom[impact_time + margin:], axis=0)\n",
    "    \n",
    "    # print(np.sum(angavg_post)/np.sum(angavg_pre))"
   ]
  },
  {
   "cell_type": "markdown",
   "metadata": {},
   "source": [
    "## $\\alpha$ - $\\omega$ relationship"
   ]
  },
  {
   "cell_type": "markdown",
   "metadata": {},
   "source": [
    "Currently only $\\alpha$ and normal impuls is accounted for, not angular velocity"
   ]
  },
  {
   "cell_type": "code",
   "execution_count": 161,
   "metadata": {},
   "outputs": [
    {
     "name": "stdout",
     "output_type": "stream",
     "text": [
      "[[ 0.01320455  0.4755625  -4.46446993]\n",
      " [ 1.14309659  1.14741477 -3.87957401]]\n",
      "[[ 8.86302326e-01  1.34275581e+00 -1.77836869e+00]\n",
      " [-1.63953488e-02  1.48837209e-03 -1.63185702e-01]]\n",
      "Angular -0.2638926121472174\n",
      "Velocity -0.2638926121472174\n"
     ]
    }
   ],
   "source": [
    "%matplotlib qt5\n",
    "tangential_surface_velocities = []\n",
    "y = []\n",
    "impact_surface_velocities = []\n",
    "c = []\n",
    "label = []\n",
    "\n",
    "colormap = [\"red\", \"blue\", \"green\", \"orange\", \"magenta\", \"cyan\"]\n",
    "\n",
    "for (i, (pos, vel, impact_time, meta)) in enumerate(zip(positions, velocities, impact_times, metadata)):\n",
    "# for (pos, vel, impact_time, meta) in zip(positions[4:5], velocities[4:5], impact_times[4:5], metadata[4:5]):\n",
    "    # Velocities from puck B:s frame of referencef\n",
    "    scenario = meta[0]-1\n",
    "    \n",
    "    \n",
    "\n",
    "    avg_vel_pre = np.average(vel[:impact_time - 5], axis = 0)\n",
    "    avg_vel_post = np.average(vel[impact_time + 5:], axis = 0)\n",
    "    \n",
    "    relative_vel_pre = avg_vel_pre[0]-avg_vel_pre[1]\n",
    "    relative_vel_post = avg_vel_post[0]-avg_vel_post[1]\n",
    "    vel_angle = np.arctan2(relative_vel_pre[1], relative_vel_pre[0])\n",
    "    relative_pos_at_impact = -(pos[impact_time,0]-pos[impact_time,1])\n",
    "    contact_angle = np.arctan2(relative_pos_at_impact[1], relative_pos_at_impact[0])\n",
    "\n",
    "    alpha = vel_angle-contact_angle\n",
    "    \n",
    "\n",
    "    momentumchange = (- relative_vel_post + relative_vel_pre) * MASSES[PUCKS[scenario][0]]\n",
    "\n",
    "    tangent = np.array([-np.sin(contact_angle), np.cos(contact_angle)])\n",
    "    normal = np.array([np.cos(contact_angle), np.sin(contact_angle)])\n",
    "        \n",
    "    \n",
    "    # draw_measurement(pos, 15)\n",
    "    \n",
    "    # plt.arrow(pos[impact_time,0,0], pos[impact_time, 0, 1], relative_pos_at_impact[0]/2, relative_pos_at_impact[1]/2, color=\"green\")\n",
    "    # plt.arrow(pos[impact_time,0,0], pos[impact_time, 0, 1], relative_vel[0]/100, relative_vel[1]/100, color=\"red\")\n",
    "    # plt.axis(\"equal\")\n",
    "\n",
    "    puck_a_surface_velocity = tangent * RADII[PUCKS[scenario][0]] * avg_vel_pre[0][2] + relative_vel_pre[0:2]\n",
    "    puck_b_surface_velocity = -tangent * RADII[PUCKS[scenario][1]] * avg_vel_pre[1][2]\n",
    "    relative_surface_velocity = puck_b_surface_velocity - puck_a_surface_velocity\n",
    "    \n",
    "    \n",
    "    tangential = np.dot(tangent, relative_surface_velocity)\n",
    "    # normal = np.dot([np.cos(contact_angle), np.sin(contact_angle)], relative_surface_velocity)\n",
    "\n",
    "    normalimpulse = np.dot(normal, momentumchange[[0,1]])\n",
    "    if scenario + 1 != 5:\n",
    "        continue\n",
    "\n",
    "    impact_surface_velocities.append(relative_surface_velocity)\n",
    "\n",
    "    # tangential_surface_velocities.append(tangential)# * np.linalg.norm(normalimpulse))\n",
    "    # tangential_surface_velocities.append(np.sign(tangentialg) * np.linalg.norm(normalimpulse))# * np.linalg.norm(normalimpulse))\n",
    "    tangential_surface_velocities.append(alpha * np.linalg.norm(normalimpulse))\n",
    "    puck = 1\n",
    "    y.append((avg_vel_post[puck,2] - avg_vel_pre[puck,2]) * MOMENTS_OF_INTERTIA[PUCKS[scenario][puck]] )\n",
    "    \n",
    "    # c.append(colormap[scenario])\n",
    "\n",
    "    # c.append([np.abs((avg_vel_pre[0,2]) + (avg_vel_pre[1,2]))/10, 0.5, 0])\n",
    "    c.append([np.minimum(np.abs(vel_angle - contact_angle), 1), 0.5, 0])\n",
    "    label.append(i)\n",
    "\n",
    "    if i == 64:\n",
    "        print(avg_vel_post)\n",
    "        print(avg_vel_pre)\n",
    "        print(\"Angular\", tangential)\n",
    "        print(\"Velocity\", tangential)\n",
    "\n",
    "    # print(vel_angle, contact_angle)\n",
    "\n",
    "\n",
    "plt.figure()\n",
    "plt.scatter(tangential_surface_velocities, y, c = c, s = 100)\n",
    "plt.xlabel(\"Tangential surface speed at imapct\")\n",
    "plt.ylabel(\"$\\\\Delta\\\\omega_B * L$\")\n",
    "# plt.xlim((-1.5, 1.5))\n",
    "#plt.ylim((-0.2, 0.2))\n",
    "# plt.ylim((-0.005, 0.005))\n",
    "# plt.ylim((-0.000002, 0.000002))\n",
    "\n",
    "# plt.xlim((-0.05, 0.05))\n",
    "# plt.ylim((-0.0002, 0.0002))\n",
    "\n",
    "plt.grid()\n",
    "\n",
    "for (i, (tangential_surface_velocity, y, m)) in enumerate(zip(tangential_surface_velocities, y, label)):\n",
    "    # plt.text(tangential_surface_velocity, y, m, color=\"black\")\n",
    "    plt.text(tangential_surface_velocity, y, m)\n",
    "    # plt.text(tangential_surface_velocity - 0.05, y+.2, str(i))\n",
    "    continue\n",
    "    \n",
    "plt.show()"
   ]
  },
  {
   "cell_type": "markdown",
   "metadata": {},
   "source": [
    "# Visualisation"
   ]
  },
  {
   "cell_type": "code",
   "execution_count": 68,
   "metadata": {},
   "outputs": [],
   "source": [
    "series = 5\n",
    "puck = 1\n",
    "# plt.plot(rolling_avg(processed[series][:,puck][:,2][:-1] - processed[series][:,puck][:,2][1:], 5))\n",
    "# plt.ylim(-0.005, 0.01)\n",
    "# plt.plot(processed[series][:,1][:,2])\n",
    "plt.plot(positions[series][:,0][:,0])\n",
    "None"
   ]
  },
  {
   "cell_type": "code",
   "execution_count": 69,
   "metadata": {},
   "outputs": [
    {
     "data": {
      "text/plain": [
       "<matplotlib.collections.PathCollection at 0x1790b720860>"
      ]
     },
     "execution_count": 69,
     "metadata": {},
     "output_type": "execute_result"
    }
   ],
   "source": [
    "series = 0\n",
    "subsample = 5\n",
    "plt.scatter(positions[series][:,0,0][::subsample], positions[series][:,0,1][::subsample], s=0.5)\n",
    "plt.scatter(positions[series][:,1,0][::subsample], positions[series][:,1,1][::subsample], s=0.5)\n",
    "plt.scatter(CoMs[series][:,0][::subsample], CoMs[series][:,1][::subsample], s=0.5)"
   ]
  },
  {
   "cell_type": "code",
   "execution_count": 162,
   "metadata": {},
   "outputs": [
    {
     "name": "stdout",
     "output_type": "stream",
     "text": [
      "[0.011439057561740299, 0.004009559569549847, 0.014734746210366962, 0.02242552692603751, 0.019413977470397168, -0.01783235266974197, 0.007418562815534742, -0.006332713650201088, 0.008039353172330583, -0.012062574021457016, -0.021045217382204707, 0.017707016406018, -0.005965746336767045, 0.014108311752791923, 0.027426813256516438, 0.008537834150430789, 0.02745182158521757, 0.01598545941471514, -0.021101687461595457, -0.0006821740061290365, -0.019784221124535883, 0.013041247233774882, 0.01241462287037165, 0.014213167436361418, 0.014598801796704312, 0.03963407124706118, 0.029647879634776584, 0.007751194213821058, -0.014469139405261164, 0.00010607029511704328, 0.011630326659165859, 0.01361157468263647, 0.02030795097590736, 0.01679069655525233, 0.02016921513902343, 0.030159382873827478, 0.014564957081756391, 0.026403091641576074, -0.0037448029832781622, 0.013184538178200662, 0.01656248071225957, 0.026008517677147368, -0.014561077210414997, 0.01129326577129434, 0.012251562364111021, 0.022016181521836358, 0.012270814606186153, 0.0166103365224571, 0.010146899914228326, 0.01388390131964376, 0.018970781639143675, 0.013263971610310833, 0.014647006456233819, 0.02382076506715869, 0.0015459462606797155, 0.023738621478326345, 0.010771909341042399, 0.001374393389643462, 0.007733653966372808]\n",
      "[5, 27]\n"
     ]
    }
   ],
   "source": [
    "%matplotlib qt5\n",
    "s = 52\n",
    "print(tangential_surface_velocities)\n",
    "# t = str(metadata[s][0]) + \"_\" + str(metadata[s][1]) + \"\\n\" + str(impact_surface_velocities[s]) + \"\\n\" + str(tangential_surface_velocities[s])\n",
    "t=\"\"\n",
    "\n",
    "radius_a = RADII[PUCKS[metadata[s][0]-1][0]]\n",
    "radius_b = RADII[PUCKS[metadata[s][0]-1][1]]\n",
    "\n",
    "print(metadata[s])\n",
    "\n",
    "fig, ax = plt.subplots()\n",
    "puck_a = patches.Circle((0.5, 0.5), radius_a)\n",
    "puck_a_edge = patches.Circle((0.5, 0.5), 0.005, color=\"red\")\n",
    "puck_b = patches.Circle((0.5, 0.5), radius_b, color=\"red\")\n",
    "puck_b_edge = patches.Circle((0.5, 0.5), 0.005)\n",
    "ax.add_patch(puck_a)\n",
    "ax.add_patch(puck_a_edge)\n",
    "ax.add_patch(puck_b)\n",
    "ax.add_patch(puck_b_edge)\n",
    "plt.scatter([0,1], [0, 1], s=0)\n",
    "\n",
    "ax.axis(\"equal\")\n",
    "\n",
    "ax.text(0, 1, t)\n",
    "\n",
    "def anim(frame):\n",
    "    puck_a.center = positions[s][frame][0][0], positions[s][frame][0][1]\n",
    "    puck_a_edge.center = positions[s][frame][0][0] + np.cos(positions[s][frame][0][2])*radius_a, positions[s][frame][0][1] + np.sin(positions[s][frame][0][2])*radius_a\n",
    "    puck_b.center = positions[s][frame][1][0], positions[s][frame][1][1]\n",
    "    puck_b_edge.center = positions[s][frame][1][0] + np.cos(positions[s][frame][1][2])*radius_b, positions[s][frame][1][1] + np.sin(positions[s][frame][1][2])*radius_b\n",
    "\n",
    "ani = animation.FuncAnimation(fig = fig, func=anim, frames=len(positions[s]), interval = 10)\n",
    "plt.show()"
   ]
  },
  {
   "cell_type": "code",
   "execution_count": null,
   "metadata": {},
   "outputs": [],
   "source": []
  },
  {
   "cell_type": "code",
   "execution_count": null,
   "metadata": {},
   "outputs": [],
   "source": []
  }
 ],
 "metadata": {
  "kernelspec": {
   "display_name": "Python 3",
   "language": "python",
   "name": "python3"
  },
  "language_info": {
   "codemirror_mode": {
    "name": "ipython",
    "version": 3
   },
   "file_extension": ".py",
   "mimetype": "text/x-python",
   "name": "python",
   "nbconvert_exporter": "python",
   "pygments_lexer": "ipython3",
   "version": "3.12.7"
  }
 },
 "nbformat": 4,
 "nbformat_minor": 2
}
